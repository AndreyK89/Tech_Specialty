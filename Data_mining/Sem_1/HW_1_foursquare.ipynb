{
 "cells": [
  {
   "cell_type": "code",
   "execution_count": 2,
   "metadata": {},
   "outputs": [],
   "source": [
    "import os\n",
    "import requests\n",
    "import json\n",
    "from dotenv import load_dotenv\n",
    "from pprint import pprint"
   ]
  },
  {
   "cell_type": "code",
   "execution_count": 3,
   "metadata": {},
   "outputs": [
    {
     "name": "stdout",
     "output_type": "stream",
     "text": [
      "Выберите категорию:\n",
      "1. кофейни\n",
      "2. музеи\n",
      "3. парки\n",
      "3\n",
      "{'categories': '16032', 'fields': 'name,location,rating'}\n"
     ]
    }
   ],
   "source": [
    "def set_key():\n",
    "    dotenv_path = os.path.join(os.path.dirname(__file__), '.env') \n",
    "    if os.path.exists(dotenv_path):\n",
    "        load_dotenv(dotenv_path)\n",
    "\n",
    "    set_key()\n",
    "#print(os.getenv(\"API_KEY\"))\n",
    "print(\"Выберите категорию:\")\n",
    "print(\"1. кофейни\")\n",
    "print(\"2. музеи\")\n",
    "print(\"3. парки\")\n",
    "cathegory = int(input(\"категория: \"))\n",
    "print(cathegory)\n",
    "if cathegory == 1:\n",
    "    cathegory_id = 13032 # кафе\n",
    "elif cathegory == 2:\n",
    "    cathegory_id = 10027 # музей\n",
    "elif cathegory == 3:\n",
    "    cathegory_id = 16032 # парк\n",
    "else:\n",
    "    print(\"Неизвестная категория\")\n",
    "    \n",
    "url = \"https://api.foursquare.com/v3/places/search\"\n",
    "\n",
    "headers = {\n",
    "    \"accept\": \"application/json\",\n",
    "    \"Authorization\": os.getenv(\"API_KEY\")\n",
    "}\n",
    "\n",
    "params = {\n",
    "    \"categories\": f\"{cathegory_id}\",\n",
    "    \"fields\": \"name,location,rating\"\n",
    "}\n",
    "print(params)"
   ]
  },
  {
   "cell_type": "code",
   "execution_count": 6,
   "metadata": {},
   "outputs": [
    {
     "name": "stdout",
     "output_type": "stream",
     "text": [
      "200\n",
      "------------------------------------------------\n",
      "НАЗВАНИЕ:  Александровский сад\n",
      "АДРЕС:  ул. Алебашевская, Тюмень\n",
      "РЕЙТИНГ:  8.6\n",
      "------------------------------------------------\n",
      "НАЗВАНИЕ:  Комсомольский сквер\n",
      "АДРЕС:  Тюмень\n",
      "РЕЙТИНГ:  8.5\n",
      "------------------------------------------------\n",
      "НАЗВАНИЕ:  Гагаринский парк\n",
      "АДРЕС:  ул. Мельникайте, Тюмень\n",
      "РЕЙТИНГ:  8.6\n",
      "------------------------------------------------\n",
      "НАЗВАНИЕ:  Гилевская роща\n",
      "АДРЕС:  Тюмень\n",
      "РЕЙТИНГ:  8.6\n",
      "------------------------------------------------\n",
      "НАЗВАНИЕ:  Сквер им. Немцова\n",
      "АДРЕС:  ул. Ленина, Тюмень\n",
      "РЕЙТИНГ:  7.3\n",
      "------------------------------------------------\n",
      "НАЗВАНИЕ:  БЕРЕЗОВАЯ РОЩА\n",
      "АДРЕС:  Фёдорова Ул., д. 6, Тюмень\n",
      "РЕЙТИНГ:  7.2\n",
      "------------------------------------------------\n",
      "НАЗВАНИЕ:  Цветной бульвар\n",
      "АДРЕС:  ул. Герцена, Тюмень\n",
      "РЕЙТИНГ:  7.0\n",
      "------------------------------------------------\n",
      "НАЗВАНИЕ:  Сквер нефтяников\n",
      "АДРЕС:  Тюмень\n",
      "РЕЙТИНГ:  6.7\n",
      "------------------------------------------------\n",
      "НАЗВАНИЕ:  Сквер Николая Машарова\n",
      "АДРЕС:  ул. Станкостроителей, 625000, Тюмень\n",
      "РЕЙТИНГ:  6.6\n",
      "------------------------------------------------\n",
      "НАЗВАНИЕ:  Парк 65-летия Победы\n",
      "АДРЕС:  Тюмень\n",
      "РЕЙТИНГ:  6.6\n"
     ]
    }
   ],
   "source": [
    "response = requests.get(url, params=params, headers=headers)\n",
    "print(response.status_code)\n",
    "\n",
    "if response.status_code == 200:\n",
    "    jdata = response.json()\n",
    "    #pprint(jdata)\n",
    "    for place in jdata['results']:\n",
    "        print('------------------------------------------------')\n",
    "        #pprint(place)\n",
    "        name = place['name']\n",
    "        print('НАЗВАНИЕ: ', name)\n",
    "        location = place['location']\n",
    "        address = location['formatted_address']\n",
    "        print('АДРЕС: ', address)\n",
    "        rating = place['rating']\n",
    "        print('РЕЙТИНГ: ', rating)"
   ]
  }
 ],
 "metadata": {
  "kernelspec": {
   "display_name": "base",
   "language": "python",
   "name": "python3"
  },
  "language_info": {
   "codemirror_mode": {
    "name": "ipython",
    "version": 3
   },
   "file_extension": ".py",
   "mimetype": "text/x-python",
   "name": "python",
   "nbconvert_exporter": "python",
   "pygments_lexer": "ipython3",
   "version": "3.9.13"
  }
 },
 "nbformat": 4,
 "nbformat_minor": 2
}
